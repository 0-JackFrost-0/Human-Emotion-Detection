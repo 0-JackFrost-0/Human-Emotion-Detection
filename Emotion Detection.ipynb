{
 "cells": [
  {
   "cell_type": "code",
   "execution_count": 7,
   "id": "f06823ea",
   "metadata": {},
   "outputs": [],
   "source": [
    "import numpy as np\n",
    "import pandas as pd\n",
    "import matplotlib.pyplot as plt\n",
    "from keras.preprocessing.image import ImageDataGenerator\n",
    "from keras.models import Sequential\n",
    "from keras.layers.convolutional import Convolution2D,MaxPooling2D\n",
    "from keras.layers import Dense,Dropout,Flatten\n",
    "import os\n",
    "import random\n",
    "%matplotlib inline"
   ]
  },
  {
   "cell_type": "code",
   "execution_count": 10,
   "id": "ed88873c",
   "metadata": {},
   "outputs": [
    {
     "name": "stdout",
     "output_type": "stream",
     "text": [
      "Found 28709 images belonging to 7 classes.\n",
      "Found 7178 images belonging to 7 classes.\n"
     ]
    }
   ],
   "source": [
    "image_height=48\n",
    "image_width=48\n",
    "batch_size=32\n",
    "\n",
    "train_data_directory='train/'\n",
    "test_data_directory='test/'\n",
    "\n",
    "train_datagen=ImageDataGenerator(rescale=(1.0/255),rotation_range=45,width_shift_range=2,horizontal_flip=True,height_shift_range=2,zoom_range=0.2,brightness_range=(0.5,2),fill_mode='nearest')\n",
    "\n",
    "validation_datagen=ImageDataGenerator(rescale=(1.0/255),brightness_range=(0.5,2),width_shift_range=2,horizontal_flip=True,height_shift_range=2,fill_mode='nearest')\n",
    "\n",
    "train_generator=train_datagen.flow_from_directory(train_data_directory,color_mode='grayscale',target_size=(image_height,image_width),\n",
    "    batch_size=batch_size,shuffle=True,class_mode='categorical')\n",
    "\n",
    "test_generator=validation_datagen.flow_from_directory(test_data_directory,color_mode='grayscale',target_size=(image_height,image_width),\n",
    "    batch_size=batch_size,shuffle=True,class_mode='categorical')\n",
    "class_labels=['Angry','Disgust','Fear','Happy','Neutral','Sad','Surprise']\n",
    "\n",
    "img,label=train_generator.__next__()"
   ]
  },
  {
   "cell_type": "code",
   "execution_count": 11,
   "id": "cc9bc244",
   "metadata": {},
   "outputs": [
    {
     "data": {
      "text/plain": [
       "Text(0.5, 1.0, 'Neutral')"
      ]
     },
     "execution_count": 11,
     "metadata": {},
     "output_type": "execute_result"
    },
    {
     "data": {
      "image/png": "[encoded data removed]",
      "text/plain": [
       "<Figure size 432x288 with 1 Axes>"
      ]
     },
     "metadata": {
      "needs_background": "light"
     },
     "output_type": "display_data"
    }
   ],
   "source": [
    "i=random.randint(0,(img.shape[0])-1)\n",
    "image=img[i]\n",
    "labl=class_labels[label[i].argmax()]\n",
    "plt.imshow(image[:,:,0],cmap='gray')\n",
    "plt.title(labl)"
   ]
  },
  {
   "cell_type": "markdown",
   "id": "8d4db5b5",
   "metadata": {},
   "source": [
    "# Making the model"
   ]
  },
  {
   "cell_type": "code",
   "execution_count": 12,
   "id": "5f0578b0",
   "metadata": {},
   "outputs": [
    {
     "name": "stdout",
     "output_type": "stream",
     "text": [
      "Model: \"sequential\"\n",
      "_________________________________________________________________\n",
      " Layer (type)                Output Shape              Param #   \n",
      "=================================================================\n",
      " conv2d (Conv2D)             (None, 46, 46, 32)        320       \n",
      "                                                                 \n",
      " conv2d_1 (Conv2D)           (None, 44, 44, 64)        18496     \n",
      "                                                                 \n",
      " max_pooling2d (MaxPooling2D  (None, 22, 22, 64)       0         \n",
      " )                                                               \n",
      "                                                                 \n",
      " dropout (Dropout)           (None, 22, 22, 64)        0         \n",
      "                                                                 \n",
      " conv2d_2 (Conv2D)           (None, 20, 20, 96)        55392     \n",
      "                                                                 \n",
      " conv2d_3 (Conv2D)           (None, 18, 18, 128)       110720    \n",
      "                                                                 \n",
      " max_pooling2d_1 (MaxPooling  (None, 9, 9, 128)        0         \n",
      " 2D)                                                             \n",
      "                                                                 \n",
      " dropout_1 (Dropout)         (None, 9, 9, 128)         0         \n",
      "                                                                 \n",
      " conv2d_4 (Conv2D)           (None, 7, 7, 256)         295168    \n",
      "                                                                 \n",
      " max_pooling2d_2 (MaxPooling  (None, 3, 3, 256)        0         \n",
      " 2D)                                                             \n",
      "                                                                 \n",
      " dropout_2 (Dropout)         (None, 3, 3, 256)         0         \n",
      "                                                                 \n",
      " flatten (Flatten)           (None, 2304)              0         \n",
      "                                                                 \n",
      " dense (Dense)               (None, 512)               1180160   \n",
      "                                                                 \n",
      " dropout_3 (Dropout)         (None, 512)               0         \n",
      "                                                                 \n",
      " dense_1 (Dense)             (None, 7)                 3591      \n",
      "                                                                 \n",
      "=================================================================\n",
      "Total params: 1,663,847\n",
      "Trainable params: 1,663,847\n",
      "Non-trainable params: 0\n",
      "_________________________________________________________________\n",
      "None\n"
     ]
    },
    {
     "name": "stderr",
     "output_type": "stream",
     "text": [
      "2022-09-20 11:58:47.465449: W tensorflow/stream_executor/platform/default/dso_loader.cc:64] Could not load dynamic library 'libcuda.so.1'; dlerror: libcuda.so.1: cannot open shared object file: No such file or directory\n",
      "2022-09-20 11:58:47.465475: W tensorflow/stream_executor/cuda/cuda_driver.cc:269] failed call to cuInit: UNKNOWN ERROR (303)\n",
      "2022-09-20 11:58:47.465490: I tensorflow/stream_executor/cuda/cuda_diagnostics.cc:156] kernel driver does not appear to be running on this host (parrot): /proc/driver/nvidia/version does not exist\n",
      "2022-09-20 11:58:47.465659: I tensorflow/core/platform/cpu_feature_guard.cc:193] This TensorFlow binary is optimized with oneAPI Deep Neural Network Library (oneDNN) to use the following CPU instructions in performance-critical operations:  AVX2\n",
      "To enable them in other operations, rebuild TensorFlow with the appropriate compiler flags.\n"
     ]
    }
   ],
   "source": [
    "model=Sequential()\n",
    "\n",
    "model.add(Convolution2D(32,kernel_size=(2,2),activation='relu',input_shape=(48,48,1)))\n",
    "model.add(Convolution2D(64,kernel_size=(2,2),activation='relu',padding='valid'))\n",
    "model.add(MaxPooling2D(pool_size=(2,2)))\n",
    "model.add(Dropout(0.10))\n",
    "          \n",
    "model.add(Convolution2D(96,kernel_size=(3,3),activation='relu'))\n",
    "model.add(Convolution2D(128,kernel_size=(3,3),activation='relu',padding='valid'))\n",
    "model.add(MaxPooling2D(pool_size=(2,2)))\n",
    "model.add(Dropout(0.12))\n",
    "\n",
    "model.add(Convolution2D(256,kernel_size=(4,4),activation='relu'))\n",
    "model.add(MaxPooling2D(pool_size=(2,2)))\n",
    "model.add(Dropout(0.15))\n",
    "\n",
    "model.add(Flatten())\n",
    "model.add(Dense(512,activation='relu'))\n",
    "model.add(Dense(7,activation='softmax'))\n",
    "          \n",
    "model.compile(optimizer='adam',loss='categorical_crossentropy',metrics=['accuracy'])\n",
    "print(model.summary())\n",
    "          \n",
    "train_images=0\n",
    "test_images=0\n",
    "\n"
   ]
  },
  {
   "cell_type": "code",
   "execution_count": 5,
   "id": "76629951",
   "metadata": {},
   "outputs": [
    {
     "name": "stdout",
     "output_type": "stream",
     "text": [
      "Epoch 1/60\n",
      "897/897 [==============================] - 257s 285ms/step - loss: 1.7913 - accuracy: 0.2605 - val_loss: 1.7137 - val_accuracy: 0.2977\n",
      "Epoch 2/60\n",
      "897/897 [==============================] - 295s 328ms/step - loss: 1.7082 - accuracy: 0.3075 - val_loss: 1.6002 - val_accuracy: 0.3690\n",
      "Epoch 3/60\n",
      "897/897 [==============================] - 547s 610ms/step - loss: 1.6135 - accuracy: 0.3641 - val_loss: 1.4831 - val_accuracy: 0.4208\n",
      "Epoch 4/60\n",
      "897/897 [==============================] - 539s 601ms/step - loss: 1.5326 - accuracy: 0.4060 - val_loss: 1.3950 - val_accuracy: 0.4597\n",
      "Epoch 5/60\n",
      "897/897 [==============================] - 513s 572ms/step - loss: 1.4759 - accuracy: 0.4272 - val_loss: 1.3380 - val_accuracy: 0.4817\n",
      "Epoch 6/60\n",
      "897/897 [==============================] - 545s 607ms/step - loss: 1.4229 - accuracy: 0.4519 - val_loss: 1.3138 - val_accuracy: 0.4916\n",
      "Epoch 7/60\n",
      "897/897 [==============================] - 262s 292ms/step - loss: 1.3937 - accuracy: 0.4651 - val_loss: 1.2737 - val_accuracy: 0.5050\n",
      "Epoch 8/60\n",
      "897/897 [==============================] - 249s 278ms/step - loss: 1.3711 - accuracy: 0.4766 - val_loss: 1.2736 - val_accuracy: 0.5077\n",
      "Epoch 9/60\n",
      "897/897 [==============================] - 313s 349ms/step - loss: 1.3498 - accuracy: 0.4820 - val_loss: 1.2196 - val_accuracy: 0.5250\n",
      "Epoch 10/60\n",
      "897/897 [==============================] - 429s 478ms/step - loss: 1.3220 - accuracy: 0.4936 - val_loss: 1.2393 - val_accuracy: 0.5247\n",
      "Epoch 11/60\n",
      "897/897 [==============================] - 258s 287ms/step - loss: 1.3094 - accuracy: 0.4967 - val_loss: 1.2084 - val_accuracy: 0.5360\n",
      "Epoch 12/60\n",
      "897/897 [==============================] - 3405s 4s/step - loss: 1.2926 - accuracy: 0.5036 - val_loss: 1.2037 - val_accuracy: 0.5371\n",
      "Epoch 13/60\n",
      "897/897 [==============================] - 258s 287ms/step - loss: 1.2836 - accuracy: 0.5100 - val_loss: 1.2035 - val_accuracy: 0.5378\n",
      "Epoch 14/60\n",
      "897/897 [==============================] - 264s 295ms/step - loss: 1.2744 - accuracy: 0.5182 - val_loss: 1.1911 - val_accuracy: 0.5497\n",
      "Epoch 15/60\n",
      "897/897 [==============================] - 260s 289ms/step - loss: 1.2636 - accuracy: 0.5168 - val_loss: 1.1749 - val_accuracy: 0.5532\n",
      "Epoch 16/60\n",
      "897/897 [==============================] - 266s 296ms/step - loss: 1.2575 - accuracy: 0.5207 - val_loss: 1.1578 - val_accuracy: 0.5611\n",
      "Epoch 17/60\n",
      "897/897 [==============================] - 260s 289ms/step - loss: 1.2478 - accuracy: 0.5247 - val_loss: 1.1478 - val_accuracy: 0.5628\n",
      "Epoch 18/60\n",
      "897/897 [==============================] - 252s 281ms/step - loss: 1.2373 - accuracy: 0.5279 - val_loss: 1.1444 - val_accuracy: 0.5677\n",
      "Epoch 19/60\n",
      "897/897 [==============================] - 259s 289ms/step - loss: 1.2337 - accuracy: 0.5313 - val_loss: 1.1547 - val_accuracy: 0.5547\n",
      "Epoch 20/60\n",
      "897/897 [==============================] - 263s 293ms/step - loss: 1.2199 - accuracy: 0.5339 - val_loss: 1.1295 - val_accuracy: 0.5681\n",
      "Epoch 21/60\n",
      "897/897 [==============================] - 262s 293ms/step - loss: 1.2152 - accuracy: 0.5380 - val_loss: 1.1351 - val_accuracy: 0.5675\n",
      "Epoch 22/60\n",
      "897/897 [==============================] - 270s 302ms/step - loss: 1.2098 - accuracy: 0.5413 - val_loss: 1.1271 - val_accuracy: 0.5769\n",
      "Epoch 23/60\n",
      "897/897 [==============================] - 254s 284ms/step - loss: 1.2019 - accuracy: 0.5410 - val_loss: 1.1339 - val_accuracy: 0.5737\n",
      "Epoch 24/60\n",
      "897/897 [==============================] - 265s 296ms/step - loss: 1.2023 - accuracy: 0.5417 - val_loss: 1.1223 - val_accuracy: 0.5752\n",
      "Epoch 25/60\n",
      "897/897 [==============================] - 263s 293ms/step - loss: 1.1936 - accuracy: 0.5480 - val_loss: 1.1299 - val_accuracy: 0.5693\n",
      "Epoch 26/60\n",
      "897/897 [==============================] - 329s 367ms/step - loss: 1.1892 - accuracy: 0.5500 - val_loss: 1.1009 - val_accuracy: 0.5785\n",
      "Epoch 27/60\n",
      "897/897 [==============================] - 261s 291ms/step - loss: 1.1897 - accuracy: 0.5465 - val_loss: 1.0996 - val_accuracy: 0.5848\n",
      "Epoch 28/60\n",
      "897/897 [==============================] - 227s 253ms/step - loss: 1.1815 - accuracy: 0.5521 - val_loss: 1.1388 - val_accuracy: 0.5667\n",
      "Epoch 29/60\n",
      "897/897 [==============================] - 353s 394ms/step - loss: 1.1799 - accuracy: 0.5524 - val_loss: 1.1095 - val_accuracy: 0.5795\n",
      "Epoch 30/60\n",
      "897/897 [==============================] - 536s 598ms/step - loss: 1.1772 - accuracy: 0.5544 - val_loss: 1.0992 - val_accuracy: 0.5808\n",
      "Epoch 31/60\n",
      "897/897 [==============================] - 464s 518ms/step - loss: 1.1744 - accuracy: 0.5549 - val_loss: 1.1182 - val_accuracy: 0.5802\n",
      "Epoch 32/60\n",
      "897/897 [==============================] - 353s 394ms/step - loss: 1.1649 - accuracy: 0.5555 - val_loss: 1.1031 - val_accuracy: 0.5848\n",
      "Epoch 33/60\n",
      "897/897 [==============================] - 145s 162ms/step - loss: 1.1689 - accuracy: 0.5539 - val_loss: 1.0964 - val_accuracy: 0.5837\n",
      "Epoch 34/60\n",
      "897/897 [==============================] - 174s 194ms/step - loss: 1.1587 - accuracy: 0.5591 - val_loss: 1.0769 - val_accuracy: 0.5925\n",
      "Epoch 35/60\n",
      "897/897 [==============================] - 152s 169ms/step - loss: 1.1520 - accuracy: 0.5607 - val_loss: 1.0935 - val_accuracy: 0.5872\n",
      "Epoch 36/60\n",
      "897/897 [==============================] - 158s 176ms/step - loss: 1.1526 - accuracy: 0.5610 - val_loss: 1.0986 - val_accuracy: 0.5788\n",
      "Epoch 37/60\n",
      "897/897 [==============================] - 156s 174ms/step - loss: 1.1459 - accuracy: 0.5652 - val_loss: 1.0915 - val_accuracy: 0.5910\n",
      "Epoch 38/60\n",
      "897/897 [==============================] - 170s 189ms/step - loss: 1.1476 - accuracy: 0.5665 - val_loss: 1.1041 - val_accuracy: 0.5804\n",
      "Epoch 39/60\n",
      "897/897 [==============================] - 192s 215ms/step - loss: 1.1439 - accuracy: 0.5676 - val_loss: 1.0968 - val_accuracy: 0.5854\n",
      "Epoch 40/60\n",
      "897/897 [==============================] - 183s 204ms/step - loss: 1.1495 - accuracy: 0.5627 - val_loss: 1.0930 - val_accuracy: 0.5901\n",
      "Epoch 41/60\n",
      "897/897 [==============================] - 177s 197ms/step - loss: 1.1371 - accuracy: 0.5688 - val_loss: 1.1113 - val_accuracy: 0.5858\n",
      "Epoch 42/60\n",
      "897/897 [==============================] - 182s 203ms/step - loss: 1.1375 - accuracy: 0.5635 - val_loss: 1.0974 - val_accuracy: 0.5901\n",
      "Epoch 43/60\n",
      "897/897 [==============================] - 184s 205ms/step - loss: 1.1406 - accuracy: 0.5650 - val_loss: 1.1041 - val_accuracy: 0.5837\n",
      "Epoch 44/60\n",
      "897/897 [==============================] - 187s 208ms/step - loss: 1.1314 - accuracy: 0.5695 - val_loss: 1.0911 - val_accuracy: 0.5878\n",
      "Epoch 45/60\n",
      "897/897 [==============================] - 185s 206ms/step - loss: 1.1257 - accuracy: 0.5730 - val_loss: 1.1298 - val_accuracy: 0.5744\n",
      "Epoch 46/60\n",
      "897/897 [==============================] - 185s 207ms/step - loss: 1.1269 - accuracy: 0.5714 - val_loss: 1.1064 - val_accuracy: 0.5838\n",
      "Epoch 47/60\n",
      "897/897 [==============================] - 258s 288ms/step - loss: 1.1244 - accuracy: 0.5745 - val_loss: 1.0952 - val_accuracy: 0.5862\n",
      "Epoch 48/60\n",
      "897/897 [==============================] - 256s 285ms/step - loss: 1.1221 - accuracy: 0.5743 - val_loss: 1.0660 - val_accuracy: 0.5972\n",
      "Epoch 49/60\n",
      "897/897 [==============================] - 256s 286ms/step - loss: 1.1231 - accuracy: 0.5736 - val_loss: 1.0654 - val_accuracy: 0.6039\n",
      "Epoch 50/60\n",
      "897/897 [==============================] - 384s 428ms/step - loss: 1.1209 - accuracy: 0.5777 - val_loss: 1.0790 - val_accuracy: 0.5889\n",
      "Epoch 51/60\n",
      "897/897 [==============================] - 242s 270ms/step - loss: 1.1170 - accuracy: 0.5760 - val_loss: 1.0745 - val_accuracy: 0.5958\n",
      "Epoch 52/60\n",
      "897/897 [==============================] - 211s 235ms/step - loss: 1.1213 - accuracy: 0.5707 - val_loss: 1.0783 - val_accuracy: 0.5929\n",
      "Epoch 53/60\n",
      "897/897 [==============================] - 186s 208ms/step - loss: 1.1174 - accuracy: 0.5754 - val_loss: 1.0969 - val_accuracy: 0.5861\n",
      "Epoch 54/60\n",
      "897/897 [==============================] - 185s 207ms/step - loss: 1.1169 - accuracy: 0.5768 - val_loss: 1.0787 - val_accuracy: 0.5908\n",
      "Epoch 55/60\n",
      "897/897 [==============================] - 172s 192ms/step - loss: 1.1081 - accuracy: 0.5779 - val_loss: 1.0802 - val_accuracy: 0.5942\n",
      "Epoch 56/60\n",
      "897/897 [==============================] - 172s 192ms/step - loss: 1.1059 - accuracy: 0.5825 - val_loss: 1.0716 - val_accuracy: 0.5986\n"
     ]
    },
    {
     "name": "stdout",
     "output_type": "stream",
     "text": [
      "Epoch 57/60\n",
      "897/897 [==============================] - 176s 197ms/step - loss: 1.1077 - accuracy: 0.5797 - val_loss: 1.0768 - val_accuracy: 0.5943\n",
      "Epoch 58/60\n",
      "897/897 [==============================] - 181s 202ms/step - loss: 1.1006 - accuracy: 0.5795 - val_loss: 1.0912 - val_accuracy: 0.5865\n",
      "Epoch 59/60\n",
      "897/897 [==============================] - 176s 196ms/step - loss: 1.1071 - accuracy: 0.5773 - val_loss: 1.0651 - val_accuracy: 0.5986\n",
      "Epoch 60/60\n",
      "897/897 [==============================] - 185s 206ms/step - loss: 1.1015 - accuracy: 0.5831 - val_loss: 1.1095 - val_accuracy: 0.5829\n"
     ]
    },
    {
     "data": {
      "image/png": "[encoded data removed]",
      "text/plain": [
       "<Figure size 432x288 with 1 Axes>"
      ]
     },
     "metadata": {
      "needs_background": "light"
     },
     "output_type": "display_data"
    }
   ],
   "source": [
    "for root,dirs,files in os.walk(train_data_directory):\n",
    "          train_images+=len(files)\n",
    "          \n",
    "for root,dirs,files in os.walk(test_data_directory):\n",
    "          test_images+=len(files)\n",
    "          \n",
    "history=model.fit(train_generator,steps_per_epoch=train_images//batch_size,epochs=60,validation_data=test_generator,validation_steps=test_images//batch_size)\n",
    "model.save(\"Emotion_detection.h5\")\n",
    "loss=history.history['loss']\n",
    "val_loss=history.history['val_loss']\n",
    "\n",
    "epochs=range(1,len(loss)+1)\n",
    "plt.plot(epochs,loss,'y',label='Training loss')\n",
    "plt.plot(epochs,val_loss,'y',label='Training loss')\n",
    "plt.title('Training and validation loss')\n",
    "plt.xlabel('epochs')\n",
    "plt.ylabel('loss')\n",
    "plt.show()"
   ]
  },
  {
   "cell_type": "code",
   "execution_count": null,
   "id": "85074c8b",
   "metadata": {},
   "outputs": [],
   "source": []
  },
  {
   "cell_type": "code",
   "execution_count": 10,
   "id": "846dabeb",
   "metadata": {},
   "outputs": [
    {
     "name": "stdout",
     "output_type": "stream",
     "text": [
      "WARNING:tensorflow:5 out of the last 5 calls to <function Model.make_predict_function.<locals>.predict_function at 0x7f3a44c5c040> triggered tf.function retracing. Tracing is expensive and the excessive number of tracings could be due to (1) creating @tf.function repeatedly in a loop, (2) passing tensors with different shapes, (3) passing Python objects instead of tensors. For (1), please define your @tf.function outside of the loop. For (2), @tf.function has reduce_retracing=True option that can avoid unnecessary retracing. For (3), please refer to https://www.tensorflow.org/guide/function#controlling_retracing and https://www.tensorflow.org/api_docs/python/tf/function for  more details.\n",
      "1/1 [==============================] - 0s 71ms/step\n",
      "Accuracy= 0.5625\n"
     ]
    },
    {
     "data": {
      "image/png": "[encoded data removed]",
      "text/plain": [
       "<Figure size 432x288 with 2 Axes>"
      ]
     },
     "metadata": {
      "needs_background": "light"
     },
     "output_type": "display_data"
    }
   ],
   "source": [
    "from keras.models import load_model\n",
    "from sklearn import metrics\n",
    "import seaborn as sns\n",
    "\n",
    "my_model=load_model('Emotion_detection.h5',compile=False)\n",
    "test_img,test_lbl=test_generator.__next__()\n",
    "predictions=my_model.predict(test_img)\n",
    "predictions=np.argmax(predictions,axis=1)\n",
    "test_labels=np.argmax(test_lbl,axis=1)\n",
    "print(\"Accuracy=\",metrics.accuracy_score(test_labels,predictions))\n",
    "cm=metrics.confusion_matrix(test_labels,predictions)\n",
    "sns.heatmap(cm)\n",
    "\n",
    "class_labels=['Angry','Disgust','Fear','Happy','Neutral','Sad','Surprise']\n",
    "n=random.randint(0,test_img.shape[0]-1)\n",
    "image=test_img[n]\n",
    "orig_lab1=class_labels[test_labels[n]]\n",
    "pred_lab1=class_labels[predictions[n]]\n",
    "plt.imshow(image[:,:,0],cmap='gray')\n",
    "#plt.title(\"Original label is:\",orig_lab1['pred_lab1'])\n",
    "plt.show()"
   ]
  },
  {
   "cell_type": "code",
   "execution_count": null,
   "id": "45190703",
   "metadata": {},
   "outputs": [],
   "source": []
  }
 ],
 "metadata": {
  "kernelspec": {
   "display_name": "Python 3 (ipykernel)",
   "language": "python",
   "name": "python3"
  },
  "language_info": {
   "codemirror_mode": {
    "name": "ipython",
    "version": 3
   },
   "file_extension": ".py",
   "mimetype": "text/x-python",
   "name": "python",
   "nbconvert_exporter": "python",
   "pygments_lexer": "ipython3",
   "version": "3.9.2"
  }
 },
 "nbformat": 4,
 "nbformat_minor": 5
}
